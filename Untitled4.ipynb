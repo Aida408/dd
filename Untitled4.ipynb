{
 "cells": [
  {
   "cell_type": "markdown",
   "id": "0e3245d6-2996-41d8-ae23-b3399adb11c6",
   "metadata": {},
   "source": [
    "Some tools:\n",
    "\n",
    "Python\n",
    "\n",
    "R\n",
    "\n",
    "SQL\n",
    "\n",
    "Scala\n",
    "\n",
    "Java\n",
    "\n",
    "C++\n",
    "\n",
    "Julia\n",
    "\n",
    "JavaScript\n",
    "\n",
    "PHP\n",
    "\n",
    "Go\n",
    "\n",
    "Ruby\n",
    "\n",
    "Visual Basic\n",
    "\n"
   ]
  },
  {
   "cell_type": "markdown",
   "id": "687a4022-464b-46fb-93bf-3eb2fba1bab3",
   "metadata": {},
   "source": [
    "Data Sciene Tools and Ecosystems\n",
    "I"
   ]
  },
  {
   "cell_type": "markdown",
   "id": "187c4231-5e63-4ada-9a8d-8be55a325df8",
   "metadata": {},
   "source": [
    "In this notebook data science tools and ecosystems summarized\n"
   ]
  },
  {
   "cell_type": "markdown",
   "id": "f3342ae4-768c-40c1-9369-96d77f359a5e",
   "metadata": {},
   "source": [
    "Some of the commonly used libraries used by Data Scientists include:\n",
    "1. Pandas\n",
    "2. Numpy\n",
    "3. Matplotlib\n",
    "4. Seaborn\n",
    "5. Scikit-learn\n",
    "I Realion\n",
    "Ca PyTorch\n",
    "9. Apache Spark\n",
    "10. Vegas\n",
    "11. Big DL\n",
    "12. Gaplot2"
   ]
  },
  {
   "cell_type": "markdown",
   "id": "260d0e74-443d-4ce9-b36a-5efaa9949605",
   "metadata": {},
   "source": [
    "\n",
    "\n",
    "| Tool               | Type           |\n",
    "|--------------------|----------------|\n",
    "| Jupyter Notebook   | IDE            |\n",
    "| Python             | Language       |\n",
    "| RStudio            | IDE            |\n",
    "| GitHub             | Version Control|\n",
    "| TensorFlow         | Library        |\n"
   ]
  },
  {
   "cell_type": "markdown",
   "id": "322e3837-472b-496b-8163-9dcbbb304f08",
   "metadata": {},
   "source": [
    "below are a few examples of arithmetic expressions in Python"
   ]
  },
  {
   "cell_type": "code",
   "execution_count": 5,
   "id": "8b380b74-99e4-4865-b741-6f3b880d8e80",
   "metadata": {},
   "outputs": [
    {
     "data": {
      "text/plain": [
       "17"
      ]
     },
     "execution_count": 5,
     "metadata": {},
     "output_type": "execute_result"
    }
   ],
   "source": [
    "\n",
    "a = 5\n",
    "b = 3\n",
    "result = (a * b) + 2\n",
    "result\n"
   ]
  },
  {
   "cell_type": "code",
   "execution_count": 6,
   "id": "1b440f55-8c69-4f29-b4e3-c1b59844a6fb",
   "metadata": {},
   "outputs": [
    {
     "data": {
      "text/plain": [
       "2.5"
      ]
     },
     "execution_count": 6,
     "metadata": {},
     "output_type": "execute_result"
    }
   ],
   "source": [
    "\n",
    "minutes = 150\n",
    "hours = minutes / 60\n",
    "hours\n"
   ]
  },
  {
   "cell_type": "markdown",
   "id": "fd9e715c-de02-4456-898e-61365d7b6f56",
   "metadata": {},
   "source": [
    "Objectives:\n",
    "• Add comments to code\n",
    "• Add ordered and proddered lists to markdown cells \n",
    "• Create a markdown cells\n",
    "• Format content markdown cells with heading styles"
   ]
  },
  {
   "cell_type": "markdown",
   "id": "86843929-9153-4dc6-b258-c7b383d80fe8",
   "metadata": {},
   "source": [
    "Objectives:\n",
    "• Add comments to code\n",
    "• Add ordered and proddered lists to markdown cells \n",
    "• Create a markdown cells\n",
    "• Format content markdown cells with heading styles"
   ]
  },
  {
   "cell_type": "markdown",
   "id": "6da54623-bf03-491c-8d3f-0aee3b4ee5a6",
   "metadata": {},
   "source": [
    "Objectives:\n",
    "\n",
    "• Add comments to code\n",
    "\n",
    "• Add ordered and proddered lists to markdown cells\n",
    "\n",
    "• Create a markdown cells\n",
    "\n",
    "• Format content markdown cells with heading styles\n"
   ]
  },
  {
   "cell_type": "markdown",
   "id": "f2a32af4-3006-49f7-854d-b4693fc95a16",
   "metadata": {},
   "source": [
    "Author(s),\n",
    "__Aida Makhmutova__"
   ]
  },
  {
   "cell_type": "code",
   "execution_count": null,
   "id": "86a19246-b66e-408a-b797-6234c0fcd105",
   "metadata": {},
   "outputs": [],
   "source": []
  }
 ],
 "metadata": {
  "kernelspec": {
   "display_name": "Python 3 (ipykernel)",
   "language": "python",
   "name": "python3"
  },
  "language_info": {
   "codemirror_mode": {
    "name": "ipython",
    "version": 3
   },
   "file_extension": ".py",
   "mimetype": "text/x-python",
   "name": "python",
   "nbconvert_exporter": "python",
   "pygments_lexer": "ipython3",
   "version": "3.12.2"
  }
 },
 "nbformat": 4,
 "nbformat_minor": 5
}
